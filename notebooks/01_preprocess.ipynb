{
 "cells": [
  {
   "cell_type": "code",
   "execution_count": 1,
   "id": "541b6618",
   "metadata": {},
   "outputs": [
    {
     "name": "stdout",
     "output_type": "stream",
     "text": [
      "Wards area calculated :)\n"
     ]
    }
   ],
   "source": [
    "import geopandas as gpd\n",
    "\n",
    "wards = gpd.read_file(\"../geo/delhi_wards.geojson\")\n",
    "\n",
    "wards = wards.to_crs(epsg=32643)\n",
    "\n",
    "wards[\"area_km2\"] = wards.geometry.area / 1e6\n",
    "print(\"Wards area calculated :)\")"
   ]
  },
  {
   "cell_type": "code",
   "execution_count": null,
   "id": "a2da88f1",
   "metadata": {},
   "outputs": [],
   "source": [
    "import pandas as pd\n",
    "import geopandas as gpd\n",
    "import re\n",
    "\n",
    "pop_df = pd.read_csv(\"../data/external/delhi-ward-wise-population.csv\")\n",
    "\n",
    "pop_df[\"Ward_No_Clean\"] = pop_df[\"Ward\"].str.extract(r'(\\d+)$')\n",
    "pop_df[\"Ward_No_Clean\"] = pop_df[\"Ward_No_Clean\"].astype(float)  \n",
    "\n",
    "wards = gpd.read_file(\"../geo/delhi_wards.geojson\")\n",
    "\n",
    "wards[\"Ward_No_Clean\"] = wards[\"Ward_No\"].apply(\n",
    "    lambda x: float(re.search(r\"\\d+\", str(x)).group()) if pd.notnull(x) and re.search(r\"\\d+\", str(x)) else None\n",
    ")\n",
    "\n",
    "\n",
    "wards = wards.to_crs(epsg=32643)\n",
    "\n",
    "wards[\"area_km2\"] = wards.geometry.area / 1e6\n",
    "\n",
    "merged = wards.merge(pop_df[[\"Ward_No_Clean\", \"Population\"]], on=\"Ward_No_Clean\", how=\"left\")\n",
    "\n",
    "merged[\"population_density\"] = merged[\"Population\"] / merged[\"area_km2\"]\n",
    "\n",
    "merged.to_file(\"../data/processed/wards_with_population.geojson\", driver=\"GeoJSON\")\n",
    "merged[[\"Ward_Name\", \"Population\", \"area_km2\", \"population_density\"]].to_csv(\n",
    "    \"../data/processed/wards_with_population.csv\", index=False\n",
    ")\n"
   ]
  }
 ],
 "metadata": {
  "kernelspec": {
   "display_name": "venv",
   "language": "python",
   "name": "python3"
  },
  "language_info": {
   "codemirror_mode": {
    "name": "ipython",
    "version": 3
   },
   "file_extension": ".py",
   "mimetype": "text/x-python",
   "name": "python",
   "nbconvert_exporter": "python",
   "pygments_lexer": "ipython3",
   "version": "3.13.5"
  }
 },
 "nbformat": 4,
 "nbformat_minor": 5
}
