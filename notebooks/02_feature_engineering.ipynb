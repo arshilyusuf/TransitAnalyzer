{
 "cells": [
  {
   "cell_type": "code",
   "execution_count": null,
   "id": "18f5bda6",
   "metadata": {},
   "outputs": [
    {
     "name": "stdout",
     "output_type": "stream",
     "text": [
      "✅ Feature engineering complete with advanced features!\n"
     ]
    }
   ],
   "source": [
    "\n",
    "import pandas as pd\n",
    "import geopandas as gpd\n",
    "from shapely.geometry import Point\n",
    "import numpy as np\n",
    "\n",
    "wards = gpd.read_file(\"../data/processed/wards_with_population.geojson\")\n",
    "stops_df = pd.read_csv(\"../data/kaggle/dmrc_gtfs_dataset/stops.csv\")\n",
    "stop_times = pd.read_csv(\"../data/kaggle/dmrc_gtfs_dataset/stop_times.csv\")\n",
    "trips = pd.read_csv(\"../data/kaggle/dmrc_gtfs_dataset/trips.csv\")\n",
    "routes = pd.read_csv(\"../data/kaggle/dmrc_gtfs_dataset/routes.csv\")\n",
    "fare_rules = pd.read_csv(\"../data/kaggle/dmrc_gtfs_dataset/fare_rules.csv\")\n",
    "fare_attributes = pd.read_csv(\"../data/kaggle/dmrc_gtfs_dataset/fare_attributes.csv\")\n",
    "\n",
    "stops_gdf = gpd.GeoDataFrame(\n",
    "    stops_df,\n",
    "    geometry=gpd.points_from_xy(stops_df[\"stop_lon\"], stops_df[\"stop_lat\"]),\n",
    "    crs=\"EPSG:4326\"\n",
    ")\n",
    "stops_gdf = stops_gdf.to_crs(epsg=32643)\n",
    "wards = wards.to_crs(epsg=32643)\n",
    "\n",
    "stops_in_wards = gpd.sjoin(stops_gdf, wards, how=\"inner\", predicate=\"within\")\n",
    "\n",
    "stop_counts = stops_in_wards.groupby(\"Ward_Name\").size().reset_index(name=\"stop_count\")\n",
    "wards = wards.drop(columns=[col for col in wards.columns if \"stop_count\" in col], errors=\"ignore\")\n",
    "wards = wards.merge(stop_counts, on=\"Ward_Name\", how=\"left\")\n",
    "wards[\"stop_count\"] = wards[\"stop_count\"].fillna(0)\n",
    "wards[\"stop_density\"] = wards[\"stop_count\"] / wards[\"area_km2\"]\n",
    "\n",
    "stop_routes = stop_times.merge(trips[[\"trip_id\", \"route_id\"]], on=\"trip_id\", how=\"left\")\n",
    "stop_route_map = stop_routes[[\"stop_id\", \"route_id\"]].drop_duplicates()\n",
    "stops_in_wards_simple = stops_in_wards[[\"stop_id\", \"Ward_Name\"]]\n",
    "stop_route_ward = stop_route_map.merge(stops_in_wards_simple, on=\"stop_id\", how=\"inner\")\n",
    "stop_route_ward = stop_route_ward.dropna(subset=[\"route_id\"])\n",
    "route_counts = stop_route_ward.groupby(\"Ward_Name\")[\"route_id\"].nunique().reset_index()\n",
    "route_counts.columns = [\"Ward_Name\", \"route_count\"]\n",
    "wards = wards.drop(columns=[col for col in wards.columns if \"route_count\" in col], errors=\"ignore\")\n",
    "wards = wards.merge(route_counts, on=\"Ward_Name\", how=\"left\")\n",
    "wards[\"route_count\"] = wards[\"route_count\"].fillna(0)\n",
    "wards[\"route_density\"] = wards[\"route_count\"] / wards[\"area_km2\"]\n",
    "\n",
    "overlap = stop_route_ward.groupby([\"Ward_Name\", \"stop_id\"]).size().reset_index(name=\"route_per_stop\")\n",
    "overlap_score = overlap.groupby(\"Ward_Name\")[\"route_per_stop\"].mean().reset_index(name=\"overlap_score\")\n",
    "wards = wards.merge(overlap_score, on=\"Ward_Name\", how=\"left\")\n",
    "wards[\"overlap_score\"] = wards[\"overlap_score\"].fillna(0)\n",
    "\n",
    "ward_counts = stops_in_wards.groupby(\"stop_id\")[\"Ward_Name\"].nunique().reset_index(name=\"ward_count\")\n",
    "shared_stops = ward_counts[ward_counts[\"ward_count\"] > 1][\"stop_id\"]\n",
    "stops_multi = stops_in_wards[stops_in_wards[\"stop_id\"].isin(shared_stops)]\n",
    "border_overlap = stops_multi.groupby(\"Ward_Name\").size().reset_index(name=\"border_overlap\")\n",
    "wards = wards.merge(border_overlap, on=\"Ward_Name\", how=\"left\")\n",
    "wards[\"border_overlap\"] = wards[\"border_overlap\"].fillna(0)\n",
    "wards[\"border_overlap_score\"] = wards[\"border_overlap\"] / wards[\"stop_count\"].replace(0, np.nan)\n",
    "wards[\"border_overlap_score\"] = wards[\"border_overlap_score\"].fillna(0)\n",
    "\n",
    "fare_map = fare_rules.merge(fare_attributes, on=\"fare_id\", how=\"left\")\n",
    "fare_map = fare_map[[\"route_id\", \"price\"]].dropna()\n",
    "route_fare = stop_route_ward.merge(fare_map, on=\"route_id\", how=\"left\")\n",
    "fare_avg = route_fare.groupby(\"Ward_Name\")[\"price\"].mean().reset_index(name=\"avg_fare\")\n",
    "wards = wards.merge(fare_avg, on=\"Ward_Name\", how=\"left\")\n",
    "wards[\"avg_fare\"] = wards[\"avg_fare\"].fillna(0)\n",
    "\n",
    "wards.to_file(\"../data/processed/wards_enriched.geojson\", driver=\"GeoJSON\")\n",
    "wards.to_csv(\"../data/processed/wards_enriched.csv\", index=False)\n",
    "\n",
    "print(\" Feature engineering complete with advanced features!\")"
   ]
  }
 ],
 "metadata": {
  "kernelspec": {
   "display_name": "venv",
   "language": "python",
   "name": "python3"
  },
  "language_info": {
   "codemirror_mode": {
    "name": "ipython",
    "version": 3
   },
   "file_extension": ".py",
   "mimetype": "text/x-python",
   "name": "python",
   "nbconvert_exporter": "python",
   "pygments_lexer": "ipython3",
   "version": "3.13.5"
  }
 },
 "nbformat": 4,
 "nbformat_minor": 5
}
