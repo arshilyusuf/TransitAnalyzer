{
 "cells": [
  {
   "cell_type": "code",
   "execution_count": 1,
   "id": "dce12c26",
   "metadata": {},
   "outputs": [
    {
     "name": "stdout",
     "output_type": "stream",
     "text": [
      "✅ Clean and practical labels assigned.\n"
     ]
    }
   ],
   "source": [
    "import pandas as pd\n",
    "\n",
    "df = pd.read_csv(\"../data/processed/wards_enriched.csv\")\n",
    "df = df.fillna({\n",
    "    \"population_density\": 0,\n",
    "    \"stop_density\": 0,\n",
    "    \"route_density\": 0,\n",
    "    \"overlap_score\": 0,\n",
    "    \"border_overlap_score\": 0\n",
    "})\n",
    "def label_ward(row):\n",
    "    pop_density = row[\"population_density\"]\n",
    "    stop_density = row[\"stop_density\"]\n",
    "    route_density = row[\"route_density\"]\n",
    "    overlap = row[\"overlap_score\"]\n",
    "    border_overlap = row[\"border_overlap_score\"]\n",
    "\n",
    "    high_pop = pop_density > 20000\n",
    "    med_pop = 5000 < pop_density <= 20000\n",
    "    low_pop = pop_density <= 5000\n",
    "\n",
    "    low_stops = stop_density < 2.5\n",
    "    high_stops = stop_density > 6\n",
    "\n",
    "    low_routes = route_density < 2.5\n",
    "    high_routes = route_density > 4.5\n",
    "\n",
    "    high_overlap = overlap > 0.6\n",
    "    med_overlap = 0.3 < overlap <= 0.6\n",
    "    low_overlap = overlap <= 0.3\n",
    "\n",
    "\n",
    "    if (high_pop or med_pop) and (low_stops or low_routes):\n",
    "        return \"underserved\"\n",
    "\n",
    "    if (low_pop or med_pop) and (high_stops or high_routes) and high_overlap:\n",
    "        return \"cluttered\"\n",
    "\n",
    "    if high_stops and high_overlap:\n",
    "        return \"cluttered\"\n",
    "\n",
    "    if (\n",
    "        not low_stops and not low_routes and\n",
    "        low_overlap\n",
    "    ):\n",
    "        return \"optimal\"\n",
    "\n",
    "    return \"optimal\"\n",
    "\n",
    "df[\"label\"] = df.apply(label_ward, axis=1)\n",
    "\n",
    "df.to_csv(\"../data/processed/final_labeled_ward_data.csv\", index=False)\n",
    "print(\"✅ Clean and practical labels assigned.\")\n"
   ]
  }
 ],
 "metadata": {
  "kernelspec": {
   "display_name": "venv",
   "language": "python",
   "name": "python3"
  },
  "language_info": {
   "codemirror_mode": {
    "name": "ipython",
    "version": 3
   },
   "file_extension": ".py",
   "mimetype": "text/x-python",
   "name": "python",
   "nbconvert_exporter": "python",
   "pygments_lexer": "ipython3",
   "version": "3.13.5"
  }
 },
 "nbformat": 4,
 "nbformat_minor": 5
}
