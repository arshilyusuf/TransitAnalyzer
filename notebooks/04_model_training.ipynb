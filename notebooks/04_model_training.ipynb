{
 "cells": [
  {
   "cell_type": "code",
   "execution_count": 1,
   "id": "82c8bdf3",
   "metadata": {},
   "outputs": [],
   "source": [
    "import pandas as pd\n",
    "\n",
    "df = pd.read_csv(\"../data/processed/final_labeled_ward_data.csv\")\n",
    "features = [\n",
    "    \"population_density\", \"stop_density\", \"route_count\", \"route_density\",\n",
    "    \"overlap_score\", \"border_overlap_score\", \"avg_fare\"\n",
    "]\n",
    "X = df[features]\n",
    "y = df[\"label\"]\n"
   ]
  },
  {
   "cell_type": "code",
   "execution_count": null,
   "id": "0d171c02",
   "metadata": {},
   "outputs": [],
   "source": [
    "from sklearn.preprocessing import LabelEncoder, StandardScaler\n",
    "from sklearn.impute import SimpleImputer\n",
    "\n",
    "le = LabelEncoder()\n",
    "y_encoded = le.fit_transform(y)\n",
    "\n",
    "imputer = SimpleImputer(strategy=\"mean\")\n",
    "X_imputed = imputer.fit_transform(X)\n",
    "\n",
    "scaler = StandardScaler()\n",
    "X_scaled = scaler.fit_transform(X_imputed)\n"
   ]
  },
  {
   "cell_type": "code",
   "execution_count": null,
   "id": "1cd6975a",
   "metadata": {},
   "outputs": [],
   "source": [
    "from sklearn.model_selection import train_test_split\n",
    "from imblearn.over_sampling import SMOTE\n",
    "\n",
    "X_train, X_test, y_train, y_test = train_test_split(\n",
    "    X_scaled, y_encoded, stratify=y_encoded, test_size=0.2, random_state=42\n",
    ")\n",
    "\n",
    "sm = SMOTE(random_state=42)\n",
    "X_resampled, y_resampled = sm.fit_resample(X_train, y_train)\n"
   ]
  },
  {
   "cell_type": "code",
   "execution_count": 4,
   "id": "77fafd98",
   "metadata": {},
   "outputs": [
    {
     "name": "stdout",
     "output_type": "stream",
     "text": [
      "\n",
      "📌 Training and Evaluating: Random Forest\n",
      "              precision    recall  f1-score   support\n",
      "\n",
      "   cluttered       1.00      0.97      0.98        61\n",
      "     optimal       0.50      1.00      0.67         5\n",
      " underserved       1.00      0.57      0.73         7\n",
      "\n",
      "    accuracy                           0.93        73\n",
      "   macro avg       0.83      0.85      0.79        73\n",
      "weighted avg       0.97      0.93      0.94        73\n",
      "\n",
      "\n",
      "📌 Training and Evaluating: Logistic Regression\n",
      "              precision    recall  f1-score   support\n",
      "\n",
      "   cluttered       1.00      0.82      0.90        61\n",
      "     optimal       0.31      0.80      0.44         5\n",
      " underserved       0.60      0.86      0.71         7\n",
      "\n",
      "    accuracy                           0.82        73\n",
      "   macro avg       0.64      0.83      0.68        73\n",
      "weighted avg       0.91      0.82      0.85        73\n",
      "\n",
      "\n",
      "📌 Training and Evaluating: XGBoost\n",
      "              precision    recall  f1-score   support\n",
      "\n",
      "   cluttered       1.00      0.97      0.98        61\n",
      "     optimal       0.62      1.00      0.77         5\n",
      " underserved       1.00      0.86      0.92         7\n",
      "\n",
      "    accuracy                           0.96        73\n",
      "   macro avg       0.88      0.94      0.89        73\n",
      "weighted avg       0.97      0.96      0.96        73\n",
      "\n"
     ]
    },
    {
     "name": "stderr",
     "output_type": "stream",
     "text": [
      "c:\\Users\\arshi\\Desktop\\FoodGapFinder\\venv\\Lib\\site-packages\\xgboost\\training.py:183: UserWarning: [23:55:42] WARNING: C:\\actions-runner\\_work\\xgboost\\xgboost\\src\\learner.cc:738: \n",
      "Parameters: { \"use_label_encoder\" } are not used.\n",
      "\n",
      "  bst.update(dtrain, iteration=i, fobj=obj)\n"
     ]
    }
   ],
   "source": [
    "from sklearn.ensemble import RandomForestClassifier\n",
    "from sklearn.linear_model import LogisticRegression\n",
    "from xgboost import XGBClassifier\n",
    "from sklearn.metrics import classification_report\n",
    "\n",
    "models = {\n",
    "    \"Random Forest\": RandomForestClassifier(n_estimators=100, random_state=42),\n",
    "    \"Logistic Regression\": LogisticRegression(max_iter=1000),\n",
    "    \"XGBoost\": XGBClassifier(use_label_encoder=False, eval_metric='mlogloss')\n",
    "}\n",
    "\n",
    "for name, model in models.items():\n",
    "    model.fit(X_resampled, y_resampled)\n",
    "    y_pred = model.predict(X_test)\n",
    "    print(classification_report(y_test, y_pred, target_names=le.classes_))\n"
   ]
  },
  {
   "cell_type": "code",
   "execution_count": 5,
   "id": "7fec238d",
   "metadata": {},
   "outputs": [
    {
     "name": "stdout",
     "output_type": "stream",
     "text": [
      "✅ Model, Scaler, and LabelEncoder saved successfully.\n"
     ]
    }
   ],
   "source": [
    "import joblib\n",
    "import os\n",
    "\n",
    "os.makedirs(\"../models\", exist_ok=True)\n",
    "\n",
    "joblib.dump(models[\"XGBoost\"], \"../models/xgboost_model.pkl\")\n",
    "\n",
    "joblib.dump(scaler, \"../models/scaler.pkl\")\n",
    "joblib.dump(le, \"../models/label_encoder.pkl\")\n",
    "\n",
    "print(\" Model, Scaler, and LabelEncoder saved successfully.\")\n"
   ]
  }
 ],
 "metadata": {
  "kernelspec": {
   "display_name": "venv",
   "language": "python",
   "name": "python3"
  },
  "language_info": {
   "codemirror_mode": {
    "name": "ipython",
    "version": 3
   },
   "file_extension": ".py",
   "mimetype": "text/x-python",
   "name": "python",
   "nbconvert_exporter": "python",
   "pygments_lexer": "ipython3",
   "version": "3.13.5"
  }
 },
 "nbformat": 4,
 "nbformat_minor": 5
}
