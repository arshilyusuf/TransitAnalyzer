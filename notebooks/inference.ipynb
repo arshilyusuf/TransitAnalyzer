{
 "cells": [
  {
   "cell_type": "code",
   "execution_count": 4,
   "id": "b07f57b8",
   "metadata": {},
   "outputs": [
    {
     "name": "stdout",
     "output_type": "stream",
     "text": [
      "🗺️ This area is classified as: **underserved**\n"
     ]
    },
    {
     "name": "stderr",
     "output_type": "stream",
     "text": [
      "c:\\Users\\arshi\\Desktop\\FoodGapFinder\\venv\\Lib\\site-packages\\sklearn\\utils\\validation.py:2732: UserWarning: X has feature names, but StandardScaler was fitted without feature names\n",
      "  warnings.warn(\n"
     ]
    }
   ],
   "source": [
    "import pandas as pd\n",
    "import joblib\n",
    "import numpy as np\n",
    "\n",
    "model = joblib.load(\"../models/xgboost_model.pkl\")\n",
    "scaler = joblib.load(\"../models/scaler.pkl\")\n",
    "label_encoder = joblib.load(\"../models/label_encoder.pkl\")\n",
    "\n",
    "new_data = pd.DataFrame([{\n",
    "    \"population_density\": 12000,\n",
    "    \"stop_density\": 4.5,\n",
    "    \"route_count\": 10,\n",
    "    \"route_density\": 1.5,\n",
    "    \"avg_fare\": 10,\n",
    "    \"overlap_score\": 0.3,\n",
    "    \"border_overlap_score\": 0.4\n",
    "}])\n",
    "\n",
    "if new_data[[\n",
    "    \"population_density\", \"stop_density\", \"route_count\", \n",
    "    \"route_density\", \"avg_fare\", \"overlap_score\", \"border_overlap_score\"\n",
    "]].isnull().any(axis=1).values[0]:\n",
    "    label = [\"N/A\"]\n",
    "else:\n",
    "    X_scaled = scaler.transform(new_data)\n",
    "    y_pred = model.predict(X_scaled)\n",
    "    label = label_encoder.inverse_transform(y_pred)\n",
    "\n",
    "print(f\" This area is classified as: **{label[0]}**\")\n"
   ]
  }
 ],
 "metadata": {
  "kernelspec": {
   "display_name": "venv",
   "language": "python",
   "name": "python3"
  },
  "language_info": {
   "codemirror_mode": {
    "name": "ipython",
    "version": 3
   },
   "file_extension": ".py",
   "mimetype": "text/x-python",
   "name": "python",
   "nbconvert_exporter": "python",
   "pygments_lexer": "ipython3",
   "version": "3.13.5"
  }
 },
 "nbformat": 4,
 "nbformat_minor": 5
}
